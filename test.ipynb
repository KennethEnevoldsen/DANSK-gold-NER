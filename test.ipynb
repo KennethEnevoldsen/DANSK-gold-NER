{
 "cells": [
  {
   "cell_type": "code",
   "execution_count": 1,
   "metadata": {},
   "outputs": [],
   "source": [
    "import spacy\n",
    "nlp = spacy.load(\"en_core_web_sm\")"
   ]
  },
  {
   "cell_type": "code",
   "execution_count": 2,
   "metadata": {},
   "outputs": [
    {
     "name": "stdout",
     "output_type": "stream",
     "text": [
      "The first ent in the doc is of type: \n",
      "<class 'spacy.tokens.span.Span'>\n",
      "\n",
      "The first element in the doc is of type: \n",
      "<class 'spacy.tokens.token.Token'>\n",
      "\n",
      "The spans in the doc are: \n",
      "{}\n",
      "\n",
      "The first element in the doc (token), attribute: .ent_type_: \n",
      "GPE\n",
      "\n",
      "The first element in doc.ents, attribute: .label_: \n",
      "GPE\n",
      "\n",
      "\n",
      "1: GPE\n",
      "2: GPE\n",
      "3: GPE\n",
      "4: LOC\n",
      "5: LOC\n"
     ]
    }
   ],
   "source": [
    "text = \"Denmark is a Nordic country\"\n",
    "doc = nlp(text)\n",
    "\n",
    "print(f'The first ent in the doc is of type: \\n{type(doc.ents[0])}')\n",
    "print(f'\\nThe first element in the doc is of type: \\n{type(doc[0])}')\n",
    "print(f'\\nThe spans in the doc are: \\n{doc.spans}')\n",
    "print(f'\\nThe first element in the doc (token), attribute: .ent_type_: \\n{doc[0].ent_type_}')\n",
    "print(f'\\nThe first element in doc.ents, attribute: .label_: \\n{doc.ents[0].label_}\\n\\n')\n",
    "\n",
    "\n",
    "print(f'1: {doc.ents[0].label_}')\n",
    "doc.ents[0].label_ = 'LOC'\n",
    "print(f'2: {doc.ents[0].label_}')\n",
    "\n",
    "print(f'3: {doc[0].ent_type_}')\n",
    "doc[0].ent_type_ = 'LOC'\n",
    "print(f'4: {doc[0].ent_type_}')\n",
    "\n",
    "print(f'5: {doc.ents[0].label_}')\n"
   ]
  },
  {
   "cell_type": "code",
   "execution_count": 3,
   "metadata": {},
   "outputs": [
    {
     "data": {
      "text/plain": [
       "Denmark is a Nordic country"
      ]
     },
     "execution_count": 3,
     "metadata": {},
     "output_type": "execute_result"
    }
   ],
   "source": [
    "doc"
   ]
  }
 ],
 "metadata": {
  "kernelspec": {
   "display_name": "thesis",
   "language": "python",
   "name": "python3"
  },
  "language_info": {
   "codemirror_mode": {
    "name": "ipython",
    "version": 3
   },
   "file_extension": ".py",
   "mimetype": "text/x-python",
   "name": "python",
   "nbconvert_exporter": "python",
   "pygments_lexer": "ipython3",
   "version": "3.10.8"
  },
  "orig_nbformat": 4,
  "vscode": {
   "interpreter": {
    "hash": "0f092f9808d781aed1cffbee1778720285e402013b75f9f1b9e21e42cac7a28f"
   }
  }
 },
 "nbformat": 4,
 "nbformat_minor": 2
}
